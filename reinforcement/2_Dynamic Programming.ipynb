{
 "cells": [
  {
   "cell_type": "markdown",
   "metadata": {},
   "source": [
    "# 다이내믹 프로그래밍\n"
   ]
  },
  {
   "cell_type": "markdown",
   "metadata": {},
   "source": [
    "## 작은 문제가 큰 문제안에 중첩돼 있을 경우에 작은 문제의 답을 다른 문제에 이용하여 효율을 높이는 방법 "
   ]
  },
  {
   "cell_type": "markdown",
   "metadata": {},
   "source": [
    "### 다이내믹 프로그래밍으로 벨만 방정식을 푼다 - 정책 이터레이션 \n",
    "### 다이내믹 프로그래밍으로 벨만 최적 방정식을 푼다 - 가치 이터레이션"
   ]
  },
  {
   "cell_type": "markdown",
   "metadata": {},
   "source": [
    "### 그리드월드 예제를 통해 실습해보기 "
   ]
  },
  {
   "cell_type": "markdown",
   "metadata": {},
   "source": [
    "### 순차적 행동 문제를 풀기 위해서\n",
    "#### - MDP 정의\n",
    "#### - 벨만 방정식 계산\n",
    "#### - 최적 가치함수 & 정책 찾기\n"
   ]
  },
  {
   "cell_type": "markdown",
   "metadata": {},
   "source": [
    "- 벨만 방정식을 푼다?\n",
    "    - 벨만 최적 방정식을 만족하는 v* 을 찾는 것!"
   ]
  },
  {
   "cell_type": "markdown",
   "metadata": {},
   "source": [
    "$$ v_*(s) =\\max_aE\\left[R_{t+1} + \\gamma v_*(S_{t+1})|S_t=s,A_t=a\\right]  $$"
   ]
  },
  {
   "cell_type": "markdown",
   "metadata": {},
   "source": [
    "###  - 그리드월드 예제"
   ]
  },
  {
   "cell_type": "markdown",
   "metadata": {},
   "source": [
    "#### 다이내믹 프로그래밍은 환경에 대한 모든 정보를 알고 문제에 접근한다"
   ]
  },
  {
   "cell_type": "markdown",
   "metadata": {},
   "source": [
    "https://github.com/rlcode/reinforcement-learning-kr "
   ]
  },
  {
   "cell_type": "markdown",
   "metadata": {},
   "source": [
    "### 다이내믹 프로그래밍의 한계"
   ]
  },
  {
   "cell_type": "markdown",
   "metadata": {},
   "source": [
    "- '계산' 이지 '학습'이 아니다\n",
    "- 다이내믹 프로그래밍의 문제\n",
    "    - 계산 복잡도(n ** 3)\n",
    "    - 차원의 저주\n",
    "    - 환경에 대한 정보 필요\n",
    "        - 실제 활용할 때 환경을 전부 알 수 있을까?"
   ]
  }
 ],
 "metadata": {
  "kernelspec": {
   "display_name": "tensorflow2",
   "language": "python",
   "name": "tensorflow2"
  },
  "language_info": {
   "codemirror_mode": {
    "name": "ipython",
    "version": 3
   },
   "file_extension": ".py",
   "mimetype": "text/x-python",
   "name": "python",
   "nbconvert_exporter": "python",
   "pygments_lexer": "ipython3",
   "version": "3.6.4"
  }
 },
 "nbformat": 4,
 "nbformat_minor": 2
}
